{
 "cells": [
  {
   "cell_type": "markdown",
   "source": [
    "# Beat the ATS - Project Description"
   ],
   "metadata": {
    "collapsed": false,
    "pycharm": {
     "name": "#%% md\n"
    }
   }
  },
  {
   "cell_type": "markdown",
   "source": [
    "###### According to Jobscan, 99% of Fortune 500 companies use an Applicant Tracking System (ATS) as their recruitment strategy.\n",
    "###### All ATS' store candidates' information by using keywords, so it's easy to parse and filter them.\n",
    "###### If applicant's resume does not meet certain criteria, it is either flagged or auto-rejected.\n",
    "###### \"Beat the ATS\" Project aims to analyse the most popular tools and skills (keywords) for Data Analytics field and check if there is a relationship between those skills and earnings."
   ],
   "metadata": {
    "collapsed": false,
    "pycharm": {
     "name": "#%% md\n"
    }
   }
  },
  {
   "cell_type": "markdown",
   "source": [
    "## Research Questions:\n",
    "<b>All research questions are based on years 2020-2021 in the United States of America</b>\n",
    "<br><br>\n",
    "###### 1. What were the most popular technologies employers sought in Data Analytics field in the period 2020-2021? (Frequency analysis)\n",
    "###### 2. What were the most popular tools employers sought? (Frequency analysis)\n",
    "###### 3. What were the most popular soft skills? (Frequency analysis)\n",
    "###### 4. Is there a relationship between education level and earnings? If yes, what is the relationship? (Regression analysis)\n",
    "###### 5. Is there a relationship between years of experience and earnings? If yes, what is the relationship? (Regression analysis)\n",
    "<br><br>\n",
    "### Hypotheses:\n",
    "###### 1. There are certain technologies that are more sought after than others.\n",
    "###### 2. There are certain tools that are more sought after than others.\n",
    "###### 3. There are certain soft skills that are sought after by employers.\n",
    "###### 4. There is a correlation between education level and earnings.\n",
    "###### 5. There is a correlation between experience level (measured in years) and earnings.\n"
   ],
   "metadata": {
    "collapsed": false,
    "pycharm": {
     "name": "#%% md\n"
    }
   }
  },
  {
   "cell_type": "code",
   "execution_count": 59,
   "outputs": [],
   "source": [
    "# Import Dependencies\n",
    "import pandas as pd\n",
    "import numpy as np\n",
    "from scipy import stats\n",
    "from sklearn.feature_extraction.text import CountVectorizer\n",
    "from sklearn.feature_extraction.text import TfidfVectorizer"
   ],
   "metadata": {
    "collapsed": false,
    "pycharm": {
     "name": "#%%\n"
    }
   }
  },
  {
   "cell_type": "code",
   "execution_count": 60,
   "outputs": [],
   "source": [
    "# Declare variables and import the data\n",
    "# job_descriptions = pd.read_csv(\"Job descriptions.csv\")\n",
    "# salary_education_experience = pd.read_csv(\"salary vs education vs experience.csv\")"
   ],
   "metadata": {
    "collapsed": false,
    "pycharm": {
     "name": "#%%\n"
    }
   }
  },
  {
   "cell_type": "code",
   "execution_count": 61,
   "outputs": [],
   "source": [
    "# Clean the data\n",
    "# Drop N/A where relevant (not relevant in the context of education!!!)\n",
    "# Words spelled differently, aggregate words for the same meaning\n",
    "# Address encoding problems: convert all job descriptions to UTF-8 using unicode_escape, pandas ignore encoding)"
   ],
   "metadata": {
    "collapsed": false,
    "pycharm": {
     "name": "#%%\n"
    }
   }
  },
  {
   "cell_type": "code",
   "execution_count": 62,
   "outputs": [],
   "source": [
    "# Searching for keywords:\n",
    "# Stop words removal\n",
    "# Count the frequency using CountVectorizer\n",
    "# Produce counts\n",
    "# Define words matrix\n",
    "def words_matrix(words, vectorizer):\n",
    "    matrix = vectorizer.fit_transform(words)"
   ],
   "metadata": {
    "collapsed": false,
    "pycharm": {
     "name": "#%%\n"
    }
   }
  },
  {
   "cell_type": "code",
   "execution_count": 70,
   "outputs": [],
   "source": [
    "text = ['Hello, my my my name is Rita and and I am a data scientist.']\n",
    "text2 = ['This is a vectorizer test']"
   ],
   "metadata": {
    "collapsed": false,
    "pycharm": {
     "name": "#%%\n"
    }
   }
  },
  {
   "cell_type": "code",
   "execution_count": 71,
   "outputs": [
    {
     "name": "stdout",
     "output_type": "stream",
     "text": [
      "  (0, 3)\t1\n",
      "  (0, 5)\t3\n",
      "  (0, 6)\t1\n",
      "  (0, 4)\t1\n",
      "  (0, 7)\t1\n",
      "  (0, 1)\t2\n",
      "  (0, 0)\t1\n",
      "  (0, 2)\t1\n",
      "  (0, 8)\t1\n"
     ]
    }
   ],
   "source": [
    "vec = CountVectorizer()\n",
    "x = vec.fit_transform(text)\n",
    "print(x)"
   ],
   "metadata": {
    "collapsed": false,
    "pycharm": {
     "name": "#%%\n"
    }
   }
  },
  {
   "cell_type": "code",
   "execution_count": null,
   "outputs": [],
   "source": [
    "# Create a visualisation for keywords"
   ],
   "metadata": {
    "collapsed": false,
    "pycharm": {
     "name": "#%%\n"
    }
   }
  },
  {
   "cell_type": "code",
   "execution_count": null,
   "outputs": [],
   "source": [
    "# Calculate Measures of Central Tendency - mean, median, mode for education\n",
    "# example_array = np.array([24, 16, 12, 10, 12, 28, 38, 12, 28, 24])\n",
    "# example_mode = stats.mode(example_array)\n",
    "# If there are multiple modes, the stats.mode() function will always return the smallest mode in the dataset."
   ],
   "metadata": {
    "collapsed": false,
    "pycharm": {
     "name": "#%%\n"
    }
   }
  },
  {
   "cell_type": "code",
   "execution_count": null,
   "outputs": [],
   "source": [
    "# Create a visualisation for education"
   ],
   "metadata": {
    "collapsed": false,
    "pycharm": {
     "name": "#%%\n"
    }
   }
  },
  {
   "cell_type": "code",
   "execution_count": null,
   "outputs": [],
   "source": [
    "# Calculate Measures of Central Tendency - mean, median, mode for experience"
   ],
   "metadata": {
    "collapsed": false,
    "pycharm": {
     "name": "#%%\n"
    }
   }
  },
  {
   "cell_type": "code",
   "execution_count": null,
   "outputs": [],
   "source": [
    "# Create a visualisation for experience"
   ],
   "metadata": {
    "collapsed": false,
    "pycharm": {
     "name": "#%%\n"
    }
   }
  },
  {
   "cell_type": "code",
   "execution_count": null,
   "outputs": [],
   "source": [
    "# Calculate Measures of Central Tendency - mean, median, mode for earnings"
   ],
   "metadata": {
    "collapsed": false,
    "pycharm": {
     "name": "#%%\n"
    }
   }
  },
  {
   "cell_type": "code",
   "execution_count": null,
   "outputs": [],
   "source": [
    "# Create a visualisation for earnings"
   ],
   "metadata": {
    "collapsed": false,
    "pycharm": {
     "name": "#%%\n"
    }
   }
  },
  {
   "cell_type": "code",
   "execution_count": null,
   "outputs": [],
   "source": [
    "# Perform regression analysis for education and earnings"
   ],
   "metadata": {
    "collapsed": false,
    "pycharm": {
     "name": "#%%\n"
    }
   }
  },
  {
   "cell_type": "code",
   "execution_count": null,
   "outputs": [],
   "source": [
    "# Create a visualisation for regression analysis: education vs earnings"
   ],
   "metadata": {
    "collapsed": false,
    "pycharm": {
     "name": "#%%\n"
    }
   }
  },
  {
   "cell_type": "code",
   "execution_count": null,
   "outputs": [],
   "source": [
    "# Perform regression analysis for experience and earnings"
   ],
   "metadata": {
    "collapsed": false,
    "pycharm": {
     "name": "#%%\n"
    }
   }
  },
  {
   "cell_type": "code",
   "execution_count": null,
   "outputs": [],
   "source": [
    "# Create a visualisation for regression analysis: experience vs earnings"
   ],
   "metadata": {
    "collapsed": false,
    "pycharm": {
     "name": "#%%\n"
    }
   }
  },
  {
   "cell_type": "code",
   "execution_count": null,
   "outputs": [],
   "source": [
    "# We can define the Student t-test as a method that tells us how significant the differences can be between different groups.\n",
    "# A Student t-test is defined as a statistic and this is used to compare the means of two different populations.\n",
    "# t-test: stats.ttest_1samp(X, mean)\n",
    "# Independent t-test: stats.ttest_ind(X,Y)"
   ],
   "metadata": {
    "collapsed": false,
    "pycharm": {
     "name": "#%%\n"
    }
   }
  },
  {
   "cell_type": "code",
   "execution_count": null,
   "outputs": [],
   "source": [
    "# Create a visualisation for t-test"
   ],
   "metadata": {
    "collapsed": false,
    "pycharm": {
     "name": "#%%\n"
    }
   }
  }
 ],
 "metadata": {
  "kernelspec": {
   "display_name": "Python 3",
   "language": "python",
   "name": "python3"
  },
  "language_info": {
   "codemirror_mode": {
    "name": "ipython",
    "version": 2
   },
   "file_extension": ".py",
   "mimetype": "text/x-python",
   "name": "python",
   "nbconvert_exporter": "python",
   "pygments_lexer": "ipython2",
   "version": "2.7.6"
  }
 },
 "nbformat": 4,
 "nbformat_minor": 0
}